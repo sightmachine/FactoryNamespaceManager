{
 "cells": [
  {
   "cell_type": "code",
   "execution_count": null,
   "metadata": {},
   "outputs": [],
   "source": [
    "from azure.ai.inference import ChatCompletionsClient\n",
    "from azure.core.credentials import AzureKeyCredential\n",
    "from azure.ai.inference.models import SystemMessage, AssistantMessage, UserMessage\n",
    "\n",
    "import os"
   ]
  },
  {
   "cell_type": "code",
   "execution_count": null,
   "metadata": {},
   "outputs": [],
   "source": [
    "endpoint = os.environ.get(\"FNM_ENDPOINT\")\n",
    "api_key = os.environ.get(\"FNM_API_KEY\")"
   ]
  },
  {
   "cell_type": "code",
   "execution_count": null,
   "metadata": {},
   "outputs": [],
   "source": [
    "client = ChatCompletionsClient(\n",
    "        endpoint=endpoint,\n",
    "        credential=AzureKeyCredential(api_key),\n",
    "        max_tokens=1000,\n",
    "        temperature=0.2)"
   ]
  },
  {
   "cell_type": "code",
   "execution_count": null,
   "metadata": {},
   "outputs": [],
   "source": [
    "system_prompt = f\"\"\" \n",
    "You are an AI companion creates renaming rules for variable names.\n",
    "\n",
    "The following examples are associated with predefined mappings:\n",
    "old: \"Outdoor Humidity\", new: \"L2_Outdoor_Humidity\"\n",
    "old: \"alarmControlSilent\", new: \"L2_Alarm_Control_Silent\"\n",
    "old: \"blendLoopFillerSpeedFactor\", new: \"L2_Blend_Loop_Filler_Speed_Factor\"\n",
    "old: \"brixSweetener\", new: \"L2_Brix_Sweetener\"\n",
    "old: \"containerProductCasesTotal\", new: \"L2_Container_Product_Cases_Total\"\n",
    "old: \"densityWaterFiltered\", new: \"L2_Density_Water_Filtered\"\n",
    "old: \"ia_fillerContainerCount1000\", new: \"L2_IA_FillerContainer_Count_1000\"\n",
    "old: \"op_ProductSide_StepMode\", new: \"L2_OP_Product_Side_Step_Mode\"\n",
    "old: \"productEstimateQueueIndexCO2\", new: \"L2_Product_Estimate_Queue_Index_CO2\"\n",
    "old: \"recipeCheckBadNextRecipe\", new: \"L2_Recipe_Check_Bad_Next_Recipe\"\n",
    "old: \"reservoirPrimeSaveVolume\", new: \"L2_Reservoir_Prime_Save_Volume\"\n",
    "old: \"steamSetPointStopTemperature\", new: \"L2_Steam_SP_Stop_Temperature\"\n",
    "old: \"yield_ProductionYieldPercent\", new: \"L2_Yield_Production_Yield_Percent\"\n",
    "\"\"\""
   ]
  },
  {
   "cell_type": "code",
   "execution_count": null,
   "metadata": {},
   "outputs": [],
   "source": [
    "user_prompt = \"What is the best new name for: ammoniaPressureHigh?\""
   ]
  },
  {
   "cell_type": "code",
   "execution_count": null,
   "metadata": {},
   "outputs": [],
   "source": [
    "response = client.complete(\n",
    "    messages=[SystemMessage(content=system_prompt),\n",
    "              UserMessage(content=user_prompt)])\n",
    "\n",
    "print(response)"
   ]
  },
  {
   "cell_type": "code",
   "execution_count": null,
   "metadata": {},
   "outputs": [],
   "source": []
  }
 ],
 "metadata": {
  "kernelspec": {
   "display_name": "Python 3",
   "language": "python",
   "name": "python3"
  },
  "language_info": {
   "codemirror_mode": {
    "name": "ipython",
    "version": 3
   },
   "file_extension": ".py",
   "mimetype": "text/x-python",
   "name": "python",
   "nbconvert_exporter": "python",
   "pygments_lexer": "ipython3",
   "version": "3.11.9"
  }
 },
 "nbformat": 4,
 "nbformat_minor": 2
}
