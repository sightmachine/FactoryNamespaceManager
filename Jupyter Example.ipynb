{
 "cells": [
  {
   "cell_type": "code",
   "execution_count": 8,
   "metadata": {},
   "outputs": [],
   "source": [
    "import urllib.request\n",
    "import json\n",
    "import os\n",
    "import ssl\n",
    "\n",
    "import os"
   ]
  },
  {
   "cell_type": "code",
   "execution_count": 9,
   "metadata": {},
   "outputs": [],
   "source": [
    "endpoint = os.environ.get(\"FNM_ENDPOINT\")\n",
    "api_key = os.environ.get(\"FNM_API_KEY\")"
   ]
  },
  {
   "cell_type": "code",
   "execution_count": 10,
   "metadata": {},
   "outputs": [],
   "source": [
    "system_prompt = f\"\"\" \n",
    "You are an AI companion creates renaming rules for variable names.\n",
    "\n",
    "The following examples are associated with predefined mappings:\n",
    "old: \"Outdoor Humidity\", new: \"L2_Outdoor_Humidity\"\n",
    "old: \"alarmControlSilent\", new: \"L2_Alarm_Control_Silent\"\n",
    "old: \"blendLoopFillerSpeedFactor\", new: \"L2_Blend_Loop_Filler_Speed_Factor\"\n",
    "old: \"brixSweetener\", new: \"L2_Brix_Sweetener\"\n",
    "old: \"containerProductCasesTotal\", new: \"L2_Container_Product_Cases_Total\"\n",
    "old: \"densityWaterFiltered\", new: \"L2_Density_Water_Filtered\"\n",
    "old: \"ia_fillerContainerCount1000\", new: \"L2_IA_FillerContainer_Count_1000\"\n",
    "old: \"op_ProductSide_StepMode\", new: \"L2_OP_Product_Side_Step_Mode\"\n",
    "old: \"productEstimateQueueIndexCO2\", new: \"L2_Product_Estimate_Queue_Index_CO2\"\n",
    "old: \"recipeCheckBadNextRecipe\", new: \"L2_Recipe_Check_Bad_Next_Recipe\"\n",
    "old: \"reservoirPrimeSaveVolume\", new: \"L2_Reservoir_Prime_Save_Volume\"\n",
    "old: \"steamSetPointStopTemperature\", new: \"L2_Steam_SP_Stop_Temperature\"\n",
    "old: \"yield_ProductionYieldPercent\", new: \"L2_Yield_Production_Yield_Percent\"\n",
    "\"\"\""
   ]
  },
  {
   "cell_type": "code",
   "execution_count": 11,
   "metadata": {},
   "outputs": [],
   "source": [
    "user_prompt = \"What is the best new name for: alarmStatusHight?\""
   ]
  },
  {
   "cell_type": "code",
   "execution_count": null,
   "metadata": {},
   "outputs": [],
   "source": [
    "def allowSelfSignedHttps(allowed):\n",
    "    # bypass the server certificate verification on client side\n",
    "    if allowed and not os.environ.get('PYTHONHTTPSVERIFY', '') and getattr(ssl, '_create_unverified_context', None):\n",
    "        ssl._create_default_https_context = ssl._create_unverified_context\n",
    "\n",
    "allowSelfSignedHttps(True) # this line is needed if you use self-signed certificate in your scoring service.\n",
    "\n",
    "data = {\"input_data\": {\"input_string\": [{\"role\": \"system\", \"content\": system_prompt},\n",
    "                                        {\"role\": \"user\", \"content\": user_prompt}]}}\n",
    "body = str.encode(json.dumps(data))\n",
    "url = endpoint\n",
    "headers = {'Content-Type':'application/json', 'Authorization':('Bearer '+ api_key)}\n",
    "req = urllib.request.Request(url, body, headers)\n",
    "\n",
    "try:\n",
    "    response = urllib.request.urlopen(req)\n",
    "\n",
    "    result = response.read()\n",
    "    print(result)\n",
    "except urllib.error.HTTPError as error:\n",
    "    print(\"The request failed with status code: \" + str(error.code))\n",
    "\n",
    "    # Print the headers - they include the requert ID and the timestamp, which are useful for debugging the failure\n",
    "    print(error.info())\n",
    "    print(error.read().decode(\"utf8\", 'ignore'))\n"
   ]
  },
  {
   "cell_type": "code",
   "execution_count": null,
   "metadata": {},
   "outputs": [],
   "source": [
    "r2 = urllib.request.Request('https://fnm-5630-bbfga.eastus2.inference.ml.azure.com/swagger.json', headers=headers)\n",
    "resp = urllib.request.urlopen(r2)\n",
    "print(resp.read().decode('utf-8'))"
   ]
  },
  {
   "cell_type": "code",
   "execution_count": null,
   "metadata": {},
   "outputs": [],
   "source": []
  }
 ],
 "metadata": {
  "kernelspec": {
   "display_name": "Python 3",
   "language": "python",
   "name": "python3"
  },
  "language_info": {
   "codemirror_mode": {
    "name": "ipython",
    "version": 3
   },
   "file_extension": ".py",
   "mimetype": "text/x-python",
   "name": "python",
   "nbconvert_exporter": "python",
   "pygments_lexer": "ipython3",
   "version": "3.11.9"
  }
 },
 "nbformat": 4,
 "nbformat_minor": 2
}
